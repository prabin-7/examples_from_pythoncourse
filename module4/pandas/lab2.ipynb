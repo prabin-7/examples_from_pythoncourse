{
 "cells": [
  {
   "cell_type": "code",
   "execution_count": 1,
   "metadata": {},
   "outputs": [
    {
     "name": "stdout",
     "output_type": "stream",
     "text": [
      "Defaulting to user installation because normal site-packages is not writeable\n",
      "Collecting xlrd\n",
      "  Downloading xlrd-2.0.1-py2.py3-none-any.whl.metadata (3.4 kB)\n",
      "Downloading xlrd-2.0.1-py2.py3-none-any.whl (96 kB)\n",
      "   ---------------------------------------- 0.0/96.5 kB ? eta -:--:--\n",
      "   ---- ----------------------------------- 10.2/96.5 kB ? eta -:--:--\n",
      "   ------------ --------------------------- 30.7/96.5 kB 660.6 kB/s eta 0:00:01\n",
      "   ---------------------------------------- 96.5/96.5 kB 1.1 MB/s eta 0:00:00\n",
      "Installing collected packages: xlrd\n",
      "Successfully installed xlrd-2.0.1\n"
     ]
    },
    {
     "name": "stderr",
     "output_type": "stream",
     "text": [
      "\n",
      "[notice] A new release of pip is available: 24.0 -> 24.1.2\n",
      "[notice] To update, run: python.exe -m pip install --upgrade pip\n"
     ]
    },
    {
     "name": "stdout",
     "output_type": "stream",
     "text": [
      "Defaulting to user installation because normal site-packages is not writeable\n",
      "Collecting openpyxl\n",
      "  Downloading openpyxl-3.1.5-py2.py3-none-any.whl.metadata (2.5 kB)\n",
      "Collecting et-xmlfile (from openpyxl)\n",
      "  Downloading et_xmlfile-1.1.0-py3-none-any.whl.metadata (1.8 kB)\n",
      "Downloading openpyxl-3.1.5-py2.py3-none-any.whl (250 kB)\n",
      "   ---------------------------------------- 0.0/250.9 kB ? eta -:--:--\n",
      "   --- ----------------------------------- 20.5/250.9 kB 640.0 kB/s eta 0:00:01\n",
      "   ---------------- ----------------------- 102.4/250.9 kB 1.2 MB/s eta 0:00:01\n",
      "   ---------------------------------------- 250.9/250.9 kB 2.2 MB/s eta 0:00:00\n",
      "Downloading et_xmlfile-1.1.0-py3-none-any.whl (4.7 kB)\n",
      "Installing collected packages: et-xmlfile, openpyxl\n",
      "Successfully installed et-xmlfile-1.1.0 openpyxl-3.1.5\n"
     ]
    },
    {
     "name": "stderr",
     "output_type": "stream",
     "text": [
      "\n",
      "[notice] A new release of pip is available: 24.0 -> 24.1.2\n",
      "[notice] To update, run: python.exe -m pip install --upgrade pip\n"
     ]
    }
   ],
   "source": [
    "# Dependency needed to install file \n",
    "\n",
    "# If running the notebook on your machine, else leave it commented\n",
    "!pip install xlrd\n",
    "\n",
    "!pip install openpyxl \n",
    "#import piplite\n",
    "#await piplite.install(['xlrd','openpyxl'])"
   ]
  },
  {
   "cell_type": "code",
   "execution_count": 3,
   "metadata": {},
   "outputs": [],
   "source": [
    "import pandas as pd\n",
    "import openpyxl"
   ]
  },
  {
   "cell_type": "code",
   "execution_count": 12,
   "metadata": {},
   "outputs": [
    {
     "data": {
      "text/html": [
       "<div>\n",
       "<style scoped>\n",
       "    .dataframe tbody tr th:only-of-type {\n",
       "        vertical-align: middle;\n",
       "    }\n",
       "\n",
       "    .dataframe tbody tr th {\n",
       "        vertical-align: top;\n",
       "    }\n",
       "\n",
       "    .dataframe thead th {\n",
       "        text-align: right;\n",
       "    }\n",
       "</style>\n",
       "<table border=\"1\" class=\"dataframe\">\n",
       "  <thead>\n",
       "    <tr style=\"text-align: right;\">\n",
       "      <th></th>\n",
       "      <th>Artist</th>\n",
       "      <th>Album</th>\n",
       "      <th>Released</th>\n",
       "      <th>Length</th>\n",
       "      <th>Genre</th>\n",
       "      <th>Music recording sales (millions)</th>\n",
       "      <th>Claimed sales (millions)</th>\n",
       "      <th>Released.1</th>\n",
       "      <th>Soundtrack</th>\n",
       "      <th>Rating</th>\n",
       "    </tr>\n",
       "  </thead>\n",
       "  <tbody>\n",
       "    <tr>\n",
       "      <th>0</th>\n",
       "      <td>Michael Jackson</td>\n",
       "      <td>Thriller</td>\n",
       "      <td>1982</td>\n",
       "      <td>00:42:19</td>\n",
       "      <td>Pop, rock, R&amp;B</td>\n",
       "      <td>46.0</td>\n",
       "      <td>65</td>\n",
       "      <td>1982-11-30</td>\n",
       "      <td>NaN</td>\n",
       "      <td>10.0</td>\n",
       "    </tr>\n",
       "    <tr>\n",
       "      <th>1</th>\n",
       "      <td>AC/DC</td>\n",
       "      <td>Back in Black</td>\n",
       "      <td>1980</td>\n",
       "      <td>00:42:11</td>\n",
       "      <td>Hard rock</td>\n",
       "      <td>26.1</td>\n",
       "      <td>50</td>\n",
       "      <td>1980-07-25</td>\n",
       "      <td>NaN</td>\n",
       "      <td>8.5</td>\n",
       "    </tr>\n",
       "    <tr>\n",
       "      <th>2</th>\n",
       "      <td>Pink Floyd</td>\n",
       "      <td>The Dark Side of the Moon</td>\n",
       "      <td>1973</td>\n",
       "      <td>00:42:49</td>\n",
       "      <td>Progressive rock</td>\n",
       "      <td>24.2</td>\n",
       "      <td>45</td>\n",
       "      <td>1973-03-01</td>\n",
       "      <td>NaN</td>\n",
       "      <td>9.5</td>\n",
       "    </tr>\n",
       "    <tr>\n",
       "      <th>3</th>\n",
       "      <td>Whitney Houston</td>\n",
       "      <td>The Bodyguard</td>\n",
       "      <td>1992</td>\n",
       "      <td>00:57:44</td>\n",
       "      <td>Soundtrack/R&amp;B, soul, pop</td>\n",
       "      <td>26.1</td>\n",
       "      <td>50</td>\n",
       "      <td>1980-07-25</td>\n",
       "      <td>Y</td>\n",
       "      <td>7.0</td>\n",
       "    </tr>\n",
       "    <tr>\n",
       "      <th>4</th>\n",
       "      <td>Meat Loaf</td>\n",
       "      <td>Bat Out of Hell</td>\n",
       "      <td>1977</td>\n",
       "      <td>00:46:33</td>\n",
       "      <td>Hard rock, progressive rock</td>\n",
       "      <td>20.6</td>\n",
       "      <td>43</td>\n",
       "      <td>1977-10-21</td>\n",
       "      <td>NaN</td>\n",
       "      <td>7.0</td>\n",
       "    </tr>\n",
       "  </tbody>\n",
       "</table>\n",
       "</div>"
      ],
      "text/plain": [
       "            Artist                      Album  Released    Length  \\\n",
       "0  Michael Jackson                   Thriller      1982  00:42:19   \n",
       "1            AC/DC              Back in Black      1980  00:42:11   \n",
       "2       Pink Floyd  The Dark Side of the Moon      1973  00:42:49   \n",
       "3  Whitney Houston              The Bodyguard      1992  00:57:44   \n",
       "4        Meat Loaf            Bat Out of Hell      1977  00:46:33   \n",
       "\n",
       "                         Genre  Music recording sales (millions)  \\\n",
       "0               Pop, rock, R&B                              46.0   \n",
       "1                    Hard rock                              26.1   \n",
       "2             Progressive rock                              24.2   \n",
       "3    Soundtrack/R&B, soul, pop                              26.1   \n",
       "4  Hard rock, progressive rock                              20.6   \n",
       "\n",
       "   Claimed sales (millions) Released.1 Soundtrack  Rating   \n",
       "0                        65 1982-11-30        NaN     10.0  \n",
       "1                        50 1980-07-25        NaN      8.5  \n",
       "2                        45 1973-03-01        NaN      9.5  \n",
       "3                        50 1980-07-25          Y      7.0  \n",
       "4                        43 1977-10-21        NaN      7.0  "
      ]
     },
     "execution_count": 12,
     "metadata": {},
     "output_type": "execute_result"
    }
   ],
   "source": [
    "xlsx_path = 'new.xlsx'\n",
    "df = pd.read_excel(xlsx_path, sheet_name = 'Sheet1', engine='openpyxl')\n",
    "df.head()\n"
   ]
  },
  {
   "cell_type": "code",
   "execution_count": 13,
   "metadata": {},
   "outputs": [
    {
     "name": "stdout",
     "output_type": "stream",
     "text": [
      "Michael Jackson\n",
      "a    Michael Jackson\n",
      "b              AC/DC\n",
      "c         Pink Floyd\n",
      "d    Whitney Houston\n",
      "Name: Artist, dtype: object\n"
     ]
    }
   ],
   "source": [
    "new_index=['a','b','c','d','e','f','g','h']\n",
    "df_new = df\n",
    "df_new.index = new_index\n",
    "x=df.loc['a','Artist']\n",
    "print(x)\n",
    "y=df.loc['a':'d','Artist']\n",
    "print(y)"
   ]
  },
  {
   "cell_type": "code",
   "execution_count": null,
   "metadata": {},
   "outputs": [],
   "source": []
  }
 ],
 "metadata": {
  "kernelspec": {
   "display_name": "Python 3",
   "language": "python",
   "name": "python3"
  },
  "language_info": {
   "codemirror_mode": {
    "name": "ipython",
    "version": 3
   },
   "file_extension": ".py",
   "mimetype": "text/x-python",
   "name": "python",
   "nbconvert_exporter": "python",
   "pygments_lexer": "ipython3",
   "version": "3.12.0"
  }
 },
 "nbformat": 4,
 "nbformat_minor": 2
}
